{
 "cells": [
  {
   "cell_type": "markdown",
   "metadata": {},
   "source": [
    "### Sample notebook for prediction against image files  "
   ]
  },
  {
   "cell_type": "markdown",
   "metadata": {},
   "source": [
    "#### Import libraries  "
   ]
  },
  {
   "cell_type": "code",
   "execution_count": 1,
   "metadata": {},
   "outputs": [],
   "source": [
    "import os,glob\n",
    "from PIL import Image\n",
    "import numpy as np\n",
    "from tensorflow.keras.utils import to_categorical\n",
    "from tensorflow.keras.models import load_model"
   ]
  },
  {
   "cell_type": "markdown",
   "metadata": {},
   "source": [
    "#### Parameters  "
   ]
  },
  {
   "cell_type": "code",
   "execution_count": 2,
   "metadata": {},
   "outputs": [],
   "source": [
    "w=56\n",
    "work_dir=\"data/dogs_cats\"\n",
    "image_dir=work_dir+\"/original/unknown\"\n",
    "pred_dir=work_dir+\"/predicted\"\n",
    "results_base='dogs_cats-results'\n",
    "model_file=\"dogs_cats-model-w{0}.h5\".format(w)\n",
    "classes=[\"dogs\",\"cats\"]\n",
    "num_classes=len(classes)"
   ]
  },
  {
   "cell_type": "markdown",
   "metadata": {},
   "source": [
    "#### Read model file  "
   ]
  },
  {
   "cell_type": "code",
   "execution_count": 3,
   "metadata": {},
   "outputs": [],
   "source": [
    "model=load_model(model_file)"
   ]
  },
  {
   "cell_type": "markdown",
   "metadata": {},
   "source": [
    "#### Prediction against an image file one by one  "
   ]
  },
  {
   "cell_type": "code",
   "execution_count": 4,
   "metadata": {},
   "outputs": [
    {
     "name": "stdout",
     "output_type": "stream",
     "text": [
      "data/dogs_cats/predicted/0.pred_as_dogs-w56.jpg [[0.54633284 0.45366716]]\n",
      "data/dogs_cats/predicted/1.pred_as_dogs-w56.jpg [[0.788001   0.21199906]]\n",
      "data/dogs_cats/predicted/2.pred_as_dogs-w56.jpg [[0.81714773 0.18285228]]\n",
      "data/dogs_cats/predicted/3.pred_as_cats-w56.jpg [[0.40839145 0.5916085 ]]\n",
      "data/dogs_cats/predicted/4.pred_as_cats-w56.jpg [[0.43643144 0.5635686 ]]\n",
      "data/dogs_cats/predicted/5.pred_as_cats-w56.jpg [[0.39740306 0.60259694]]\n",
      "data/dogs_cats/predicted/6.pred_as_dogs-w56.jpg [[0.81264186 0.18735819]]\n",
      "data/dogs_cats/predicted/7.pred_as_dogs-w56.jpg [[0.6260464  0.37395352]]\n",
      "data/dogs_cats/predicted/8.pred_as_dogs-w56.jpg [[0.50162596 0.49837402]]\n",
      "data/dogs_cats/predicted/9.pred_as_dogs-w56.jpg [[0.5717201 0.4282799]]\n",
      "OK\n"
     ]
    }
   ],
   "source": [
    "# Open file for saving results  \n",
    "results_file='{0}-w{1}.csv'.format(results_base,w)\n",
    "res=open(results_file,'w')\n",
    "res.write(\"file,{0},{1}\\n\".format(classes[0],classes[1]))\n",
    "\n",
    "# Remove files in output directory\n",
    "files=glob.glob(pred_dir+\"/*.*\")\n",
    "for f in files:\n",
    "    os.remove(f)\n",
    "\n",
    "# Do prediction \n",
    "files=glob.glob(image_dir+\"/*.*\")\n",
    "for f in files:\n",
    "    # Read image file\n",
    "    img=Image.open(f)\n",
    "    img=img.convert(\"RGB\")\n",
    "    img=img.resize((w,w))\n",
    "    # Reshape into 4-d ndarray\n",
    "    X=np.array(img).reshape(1,w,w,3).astype(\"float16\")\n",
    "    X_pred=X/255\n",
    "    # Classification prediction\n",
    "    pred=model.predict(X_pred)\n",
    "    # Output image into pred_dir\n",
    "    pred_ans=pred.argmax()\n",
    "    pred_cls=classes[pred_ans]\n",
    "    tag=\"pred_as_{0}-w{1}\".format(pred_cls,w)\n",
    "    base=os.path.basename(f)\n",
    "    img_file=\"{0}/{1}.{2}.jpg\".format(pred_dir,os.path.splitext(base)[0],tag)\n",
    "    img.save(img_file)\n",
    "    print(img_file,pred)\n",
    "    res.write(\"{0},{1},{2}\\n\".format(f,pred[0][0],pred[0][1]))\n",
    "\n",
    "# Close results file\n",
    "res.close()\n",
    "\n",
    "print(\"OK\")"
   ]
  },
  {
   "cell_type": "code",
   "execution_count": null,
   "metadata": {},
   "outputs": [],
   "source": []
  }
 ],
 "metadata": {
  "kernelspec": {
   "display_name": "Python 3",
   "language": "python",
   "name": "python3"
  },
  "language_info": {
   "codemirror_mode": {
    "name": "ipython",
    "version": 3
   },
   "file_extension": ".py",
   "mimetype": "text/x-python",
   "name": "python",
   "nbconvert_exporter": "python",
   "pygments_lexer": "ipython3",
   "version": "3.7.8"
  }
 },
 "nbformat": 4,
 "nbformat_minor": 4
}
