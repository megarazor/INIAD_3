{
 "cells": [
  {
   "cell_type": "markdown",
   "metadata": {},
   "source": [
    "### Environment check  "
   ]
  },
  {
   "cell_type": "code",
   "execution_count": 1,
   "metadata": {},
   "outputs": [
    {
     "name": "stdout",
     "output_type": "stream",
     "text": [
      "Start\n",
      "3.7.8 | packaged by conda-forge | (default, Jul 31 2020, 01:53:57) [MSC v.1916 64 bit (AMD64)]\n",
      "2020-09-17 09:48:58.441563\n",
      "pwd: D:\\PROJECTS\\INIAD_3\\ds2020\\dl-00\n",
      "conda: b'conda 4.8.4\\r\\n'\n",
      "pip: b'pip 20.0.2 from D:\\\\PROGRAM_DATA\\\\Miniconda3\\\\envs\\\\ds2020\\\\lib\\\\site-packages\\\\pip (python 3.7)\\r\\r\\n'\n",
      "JupyterLab: b'2.2.8\\r\\n'\n",
      "ipython: b'7.18.1\\r\\n'\n",
      "numpy: 1.18.1\n",
      "scipy: 1.4.1\n",
      "pandas: 1.0.3\n",
      "sklearn: 0.22.1\n",
      "matplotlib: 3.3.2\n",
      "h5py: 2.10.0\n",
      "bs4: 4.9.1\n",
      "gensim: 3.8.0\n",
      "tf: 2.1.0\n",
      "librosa: 0.6.1\n",
      "numba: 0.48.0\n",
      "pillow: 7.0.0\n",
      "gym: 0.17.2\n",
      "keras-rl2: b'Name: keras-rl2\\r\\nVersion: 1.0.4\\r\\nSummary: Deep Reinforcement Learning for Tensorflow 2 Keras\\r\\nHome-page: https://github.com/wau/keras-rl2\\r\\nAuthor: Taylor McNally\\r\\nAuthor-email: taylor.mcnally@emory.edu\\r\\nLicense: MIT\\r\\nLocation: c:\\\\users\\\\vanna\\\\appdata\\\\roaming\\\\python\\\\python37\\\\site-packages\\r\\nRequires: tensorflow\\r\\nRequired-by: \\r\\n'\n",
      "End\n"
     ]
    }
   ],
   "source": [
    "import sys, os, subprocess, warnings\n",
    "from subprocess import PIPE\n",
    "from datetime import datetime\n",
    "warnings.resetwarnings()\n",
    "warnings.simplefilter('ignore', FutureWarning)\n",
    "warnings.simplefilter('ignore', DeprecationWarning)\n",
    "warnings.simplefilter('ignore', RuntimeWarning)\n",
    "warnings.simplefilter('ignore', ResourceWarning)\n",
    "warnings.simplefilter('ignore', ImportWarning)\n",
    "\n",
    "print('Start')\n",
    "print(sys.version)\n",
    "t=os.path.getctime(os.environ['CONDA_PREFIX'])\n",
    "print(datetime.fromtimestamp(t))\n",
    "print('pwd:', os.getcwd())\n",
    "proc=subprocess.run('conda --version', shell=True, stdout=PIPE, stderr=PIPE)\n",
    "print('conda:', proc.stdout)\n",
    "proc=subprocess.run('pip --version', shell=True, stdout=PIPE, stderr=PIPE)\n",
    "print('pip:', proc.stdout)\n",
    "proc=subprocess.run('jupyter lab --version', shell=True, stdout=PIPE, stderr=PIPE)\n",
    "print('JupyterLab:', proc.stdout)\n",
    "proc=subprocess.run('ipython --version', shell=True, stdout=PIPE, stderr=PIPE)\n",
    "print('ipython:', proc.stdout)\n",
    "import numpy as np\n",
    "print('numpy:', np.__version__)\n",
    "import scipy as sp\n",
    "print('scipy:', sp.__version__)\n",
    "import pandas as pd\n",
    "print('pandas:', pd.__version__)\n",
    "import sklearn as sk\n",
    "print('sklearn:', sk.__version__)\n",
    "import matplotlib as mp\n",
    "print('matplotlib:', mp.__version__)\n",
    "import h5py\n",
    "print('h5py:', h5py.__version__)\n",
    "import bs4\n",
    "print('bs4:', bs4.__version__)\n",
    "import gensim\n",
    "print('gensim:', gensim.__version__)\n",
    "import tensorflow as tf\n",
    "print('tf:', tf.__version__)\n",
    "import librosa\n",
    "print('librosa:', librosa.__version__)\n",
    "import numba\n",
    "print('numba:', numba.__version__)\n",
    "import PIL\n",
    "print('pillow:', PIL.__version__)\n",
    "import gym\n",
    "print('gym:', gym.__version__)\n",
    "import rl\n",
    "proc=subprocess.run('pip show keras-rl2', shell=True, stdout=PIPE, stderr=PIPE)\n",
    "print('keras-rl2:', proc.stdout)\n",
    "\n",
    "print('End')"
   ]
  }
 ],
 "metadata": {
  "kernelspec": {
   "display_name": "Python 3",
   "language": "python",
   "name": "python3"
  },
  "language_info": {
   "codemirror_mode": {
    "name": "ipython",
    "version": 3
   },
   "file_extension": ".py",
   "mimetype": "text/x-python",
   "name": "python",
   "nbconvert_exporter": "python",
   "pygments_lexer": "ipython3",
   "version": "3.7.8"
  }
 },
 "nbformat": 4,
 "nbformat_minor": 4
}
