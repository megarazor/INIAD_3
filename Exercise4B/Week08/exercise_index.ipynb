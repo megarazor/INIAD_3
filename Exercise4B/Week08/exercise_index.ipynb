{
 "cells": [
  {
   "cell_type": "code",
   "execution_count": 1,
   "metadata": {},
   "outputs": [],
   "source": [
    "import sqlite3\n",
    "import csv\n",
    "import os\n",
    "import random\n",
    "import timeit"
   ]
  },
  {
   "cell_type": "code",
   "execution_count": 2,
   "metadata": {},
   "outputs": [],
   "source": [
    "# 各種設定\n",
    "# Configurations\n",
    "DBFILE = 'TESTINDEX.db'\n",
    "CSVFILE = 'refsnp_chrY.csv'\n",
    "N = 1000"
   ]
  },
  {
   "cell_type": "code",
   "execution_count": 3,
   "metadata": {},
   "outputs": [],
   "source": [
    "# CSVファイルからデータベースファイルを作成\n",
    "# Create database file from CSV\n",
    "if os.path.exists(DBFILE):\n",
    "    os.unlink(DBFILE)\n",
    "\n",
    "db = sqlite3.connect(DBFILE)\n",
    "c = db.cursor()\n",
    "\n",
    "c.execute(\"\"\"\n",
    "          CREATE TABLE mutations(\n",
    "            id INTEGER PRIMARY KEY, \n",
    "            pos INTEGER NOT NULL,\n",
    "            base_from TEXT NOT NULL,\n",
    "            base_to TEXT NOT NULL);\n",
    "          \"\"\")\n",
    "\n",
    "c.execute(\"BEGIN;\")\n",
    "with open(CSVFILE) as f:\n",
    "    reader = csv.reader(f)\n",
    "    next(reader) # skip first line\n",
    "    next(reader) # skip second line\n",
    "    for row in reader:\n",
    "        c.execute(\"INSERT INTO mutations(id, pos, base_from, base_to) VALUES(?, ?, ?, ?);\", (int(row[0]), int(row[1]), row[2], row[3]))\n",
    "c.execute(\"COMMIT;\")\n",
    "db.close()"
   ]
  },
  {
   "cell_type": "code",
   "execution_count": 7,
   "metadata": {},
   "outputs": [
    {
     "ename": "OperationalError",
     "evalue": "index pos_index already exists",
     "output_type": "error",
     "traceback": [
      "\u001b[1;31m---------------------------------------------------------------------------\u001b[0m",
      "\u001b[1;31mOperationalError\u001b[0m                          Traceback (most recent call last)",
      "\u001b[1;32m<ipython-input-7-2d226c929945>\u001b[0m in \u001b[0;36m<module>\u001b[1;34m()\u001b[0m\n\u001b[0;32m      5\u001b[0m \u001b[1;33m\u001b[0m\u001b[0m\n\u001b[0;32m      6\u001b[0m \u001b[1;31m# c.execute(\"pos列へのインデックスを追加するSQL文をここに書く/Write an SQL statement that adds index for pos column;\")\u001b[0m\u001b[1;33m\u001b[0m\u001b[1;33m\u001b[0m\u001b[1;33m\u001b[0m\u001b[0m\n\u001b[1;32m----> 7\u001b[1;33m \u001b[0mc\u001b[0m\u001b[1;33m.\u001b[0m\u001b[0mexecute\u001b[0m\u001b[1;33m(\u001b[0m\u001b[1;34m\"CREATE INDEX pos_index ON mutations(pos)\"\u001b[0m\u001b[1;33m)\u001b[0m\u001b[1;33m\u001b[0m\u001b[1;33m\u001b[0m\u001b[0m\n\u001b[0m\u001b[0;32m      8\u001b[0m \u001b[1;33m\u001b[0m\u001b[0m\n\u001b[0;32m      9\u001b[0m \u001b[0mdb\u001b[0m\u001b[1;33m.\u001b[0m\u001b[0mclose\u001b[0m\u001b[1;33m(\u001b[0m\u001b[1;33m)\u001b[0m\u001b[1;33m\u001b[0m\u001b[1;33m\u001b[0m\u001b[0m\n",
      "\u001b[1;31mOperationalError\u001b[0m: index pos_index already exists"
     ]
    }
   ],
   "source": [
    "# インデックスの作成 (インデックスを作成しない場合はこのセルをスキップすること)\n",
    "# Create index (If you don't want to create an index, skip this cell)\n",
    "db = sqlite3.connect(DBFILE)\n",
    "c = db.cursor()\n",
    "\n",
    "# c.execute(\"pos列へのインデックスを追加するSQL文をここに書く/Write an SQL statement that adds index for pos column;\")\n",
    "c.execute(\"CREATE INDEX pos_index ON mutations(pos)\")\n",
    "\n",
    "db.close()"
   ]
  },
  {
   "cell_type": "code",
   "execution_count": 5,
   "metadata": {},
   "outputs": [
    {
     "name": "stdout",
     "output_type": "stream",
     "text": [
      "Max/min finding time:  270.69659999961004\n",
      "Avg time elapsed for each SELECT: 130.63435290000007 milliseconds\n"
     ]
    }
   ],
   "source": [
    "# SELECT文による条件抽出に要する時間を計測\n",
    "# Measure the time performance of conditional query using SELECT statement\n",
    "db = sqlite3.connect(DBFILE)\n",
    "c = db.cursor()\n",
    "\n",
    "# start = timeit.default_timer()\n",
    "minv, maxv = c.execute(\"SELECT MIN(pos), MAX(pos) FROM mutations;\").fetchall()[0]\n",
    "# end = timeit.default_timer()\n",
    "# print(\"Max/min finding time: \", (end - start) * 1000)\n",
    "\n",
    "start = timeit.default_timer()\n",
    "for _ in range(N):\n",
    "    pos = random.randint(minv, maxv)\n",
    "    c.execute(\"SELECT * FROM mutations WHERE pos BETWEEN ? AND ?;\", (pos, pos+100))\n",
    "end = timeit.default_timer()\n",
    "\n",
    "db.close()\n",
    "\n",
    "print(\"Avg time elapsed for each SELECT: {} milliseconds\".format((end - start) / N * 1000))"
   ]
  },
  {
   "cell_type": "code",
   "execution_count": null,
   "metadata": {},
   "outputs": [],
   "source": []
  }
 ],
 "metadata": {
  "kernelspec": {
   "display_name": "Python 3",
   "language": "python",
   "name": "python3"
  },
  "language_info": {
   "codemirror_mode": {
    "name": "ipython",
    "version": 3
   },
   "file_extension": ".py",
   "mimetype": "text/x-python",
   "name": "python",
   "nbconvert_exporter": "python",
   "pygments_lexer": "ipython3",
   "version": "3.7.8"
  }
 },
 "nbformat": 4,
 "nbformat_minor": 4
}
