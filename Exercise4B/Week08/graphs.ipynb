{
 "cells": [
  {
   "cell_type": "code",
   "execution_count": 2,
   "metadata": {},
   "outputs": [],
   "source": [
    "import sqlite3\n",
    "import csv\n",
    "import os\n",
    "import random\n",
    "import timeit"
   ]
  },
  {
   "cell_type": "code",
   "execution_count": 3,
   "metadata": {},
   "outputs": [],
   "source": [
    "# 各種設定\n",
    "# Configurations\n",
    "DBFILE = 'TEST_X.db'\n",
    "CSVFILE = 'refsnp_chrX.csv'\n",
    "N = 100"
   ]
  },
  {
   "cell_type": "code",
   "execution_count": 4,
   "metadata": {},
   "outputs": [],
   "source": [
    "# CSVファイルからデータベースファイルを作成\n",
    "# Create database file from CSV\n",
    "if os.path.exists(DBFILE):\n",
    "    os.unlink(DBFILE)\n",
    "\n",
    "db = sqlite3.connect(DBFILE)\n",
    "c = db.cursor()\n",
    "\n",
    "c.execute(\"\"\"\n",
    "          CREATE TABLE mutations(\n",
    "            id INTEGER PRIMARY KEY, \n",
    "            pos INTEGER NOT NULL,\n",
    "            base_from TEXT NOT NULL,\n",
    "            base_to TEXT NOT NULL);\n",
    "          \"\"\")\n",
    "\n",
    "c.execute(\"\"\"\n",
    "          CREATE TABLE mutations_1(\n",
    "            id INTEGER PRIMARY KEY, \n",
    "            pos INTEGER NOT NULL,\n",
    "            base_from TEXT NOT NULL,\n",
    "            base_to TEXT NOT NULL);\n",
    "          \"\"\")\n",
    "\n",
    "c.execute(\"\"\"\n",
    "          CREATE TABLE mutations_2(\n",
    "            id INTEGER PRIMARY KEY, \n",
    "            pos INTEGER NOT NULL,\n",
    "            base_from TEXT NOT NULL,\n",
    "            base_to TEXT NOT NULL);\n",
    "          \"\"\")\n",
    "\n",
    "c.execute(\"\"\"\n",
    "          CREATE TABLE mutations_3(\n",
    "            id INTEGER PRIMARY KEY, \n",
    "            pos INTEGER NOT NULL,\n",
    "            base_from TEXT NOT NULL,\n",
    "            base_to TEXT NOT NULL);\n",
    "          \"\"\")\n",
    "\n",
    "c.execute(\"\"\"\n",
    "          CREATE TABLE mutations_4(\n",
    "            id INTEGER PRIMARY KEY, \n",
    "            pos INTEGER NOT NULL,\n",
    "            base_from TEXT NOT NULL,\n",
    "            base_to TEXT NOT NULL);\n",
    "          \"\"\")\n",
    "\n",
    "c.execute(\"\"\"\n",
    "          CREATE TABLE mutations_5(\n",
    "            id INTEGER PRIMARY KEY, \n",
    "            pos INTEGER NOT NULL,\n",
    "            base_from TEXT NOT NULL,\n",
    "            base_to TEXT NOT NULL);\n",
    "          \"\"\")\n",
    "\n",
    "c.execute(\"\"\"\n",
    "          CREATE TABLE mutations_6(\n",
    "            id INTEGER PRIMARY KEY, \n",
    "            pos INTEGER NOT NULL,\n",
    "            base_from TEXT NOT NULL,\n",
    "            base_to TEXT NOT NULL);\n",
    "          \"\"\")\n",
    "\n",
    "count= 0\n",
    "c.execute(\"BEGIN;\")\n",
    "with open(CSVFILE) as f:\n",
    "    reader = csv.reader(f)\n",
    "    next(reader) # skip first line\n",
    "    next(reader) # skip second line\n",
    "    for row in reader:\n",
    "        c.execute(\"INSERT INTO mutations(id, pos, base_from, base_to) VALUES(?, ?, ?, ?);\", (int(row[0]), int(row[1]), row[2], row[3]))\n",
    "        if count < 10 * 1000:\n",
    "            c.execute(\"INSERT INTO mutations_1(id, pos, base_from, base_to) VALUES(?, ?, ?, ?);\", (int(row[0]), int(row[1]), row[2], row[3]))\n",
    "        if count < 100 * 1000:\n",
    "            c.execute(\"INSERT INTO mutations_2(id, pos, base_from, base_to) VALUES(?, ?, ?, ?);\", (int(row[0]), int(row[1]), row[2], row[3]))\n",
    "        if count < 1000 * 1000:\n",
    "            c.execute(\"INSERT INTO mutations_3(id, pos, base_from, base_to) VALUES(?, ?, ?, ?);\", (int(row[0]), int(row[1]), row[2], row[3]))\n",
    "        if count < 2 *1000 * 1000:\n",
    "            c.execute(\"INSERT INTO mutations_4(id, pos, base_from, base_to) VALUES(?, ?, ?, ?);\", (int(row[0]), int(row[1]), row[2], row[3]))\n",
    "        if count < 5 * 1000 * 1000:\n",
    "            c.execute(\"INSERT INTO mutations_5(id, pos, base_from, base_to) VALUES(?, ?, ?, ?);\", (int(row[0]), int(row[1]), row[2], row[3]))\n",
    "        if count < 10 * 1000 * 1000:\n",
    "            c.execute(\"INSERT INTO mutations_6(id, pos, base_from, base_to) VALUES(?, ?, ?, ?);\", (int(row[0]), int(row[1]), row[2], row[3]))\n",
    "        count+= 1\n",
    "    \n",
    "    \n",
    "c.execute(\"COMMIT;\")\n",
    "db.close()"
   ]
  },
  {
   "cell_type": "code",
   "execution_count": 5,
   "metadata": {},
   "outputs": [
    {
     "name": "stdout",
     "output_type": "stream",
     "text": [
      "Number of rows:  23707851\n",
      "Min and max value:  2781480 155701379\n"
     ]
    }
   ],
   "source": [
    "# Get the number of rows in the table\n",
    "db = sqlite3.connect(DBFILE)\n",
    "c = db.cursor()\n",
    "\n",
    "count= c.execute(\"SELECT COUNT (*) FROM mutations;\").fetchall()[0][0]\n",
    "minv, maxv = c.execute(\"SELECT MIN(pos), MAX(pos) FROM mutations;\").fetchall()[0]\n",
    "\n",
    "db.close()\n",
    "\n",
    "print(\"Number of rows: \", count)\n",
    "print(\"Min and max value: \", minv, maxv)"
   ]
  },
  {
   "cell_type": "code",
   "execution_count": 6,
   "metadata": {},
   "outputs": [
    {
     "name": "stdout",
     "output_type": "stream",
     "text": [
      "[1.222027999999682, 11.93320099999994, 105.50252600000022, 141.1230169999999, 229.61065299999973, 301.07711800000004, 390.7779610000006]\n"
     ]
    }
   ],
   "source": [
    "# Measure the time performance of conditional query using SELECT statement\n",
    "# NO index\n",
    "db = sqlite3.connect(DBFILE)\n",
    "c = db.cursor()\n",
    "\n",
    "times_select_no_index= []\n",
    "\n",
    "start = timeit.default_timer()\n",
    "for _ in range(N):\n",
    "    pos = random.randint(minv, maxv)\n",
    "    c.execute(\"SELECT * FROM mutations_1 WHERE pos BETWEEN ? AND ?;\", (pos, pos+100))\n",
    "end = timeit.default_timer()\n",
    "times_select_no_index.append((end - start) / N * 1000) # in milisecond\n",
    "\n",
    "start = timeit.default_timer()\n",
    "for _ in range(N):\n",
    "    pos = random.randint(minv, maxv)\n",
    "    c.execute(\"SELECT * FROM mutations_2 WHERE pos BETWEEN ? AND ?;\", (pos, pos+100))\n",
    "end = timeit.default_timer()\n",
    "times_select_no_index.append((end - start) / N * 1000) # in milisecond\n",
    "\n",
    "start = timeit.default_timer()\n",
    "for _ in range(N):\n",
    "    pos = random.randint(minv, maxv)\n",
    "    c.execute(\"SELECT * FROM mutations_3 WHERE pos BETWEEN ? AND ?;\", (pos, pos+100))\n",
    "end = timeit.default_timer()\n",
    "times_select_no_index.append((end - start) / N * 1000) # in milisecond\n",
    "\n",
    "start = timeit.default_timer()\n",
    "for _ in range(N):\n",
    "    pos = random.randint(minv, maxv)\n",
    "    c.execute(\"SELECT * FROM mutations_4 WHERE pos BETWEEN ? AND ?;\", (pos, pos+100))\n",
    "end = timeit.default_timer()\n",
    "times_select_no_index.append((end - start) / N * 1000) # in milisecond\n",
    "\n",
    "start = timeit.default_timer()\n",
    "for _ in range(N):\n",
    "    pos = random.randint(minv, maxv)\n",
    "    c.execute(\"SELECT * FROM mutations_5 WHERE pos BETWEEN ? AND ?;\", (pos, pos+100))\n",
    "end = timeit.default_timer()\n",
    "times_select_no_index.append((end - start) / N * 1000) # in milisecond\n",
    "\n",
    "start = timeit.default_timer()\n",
    "for _ in range(N):\n",
    "    pos = random.randint(minv, maxv)\n",
    "    c.execute(\"SELECT * FROM mutations_6 WHERE pos BETWEEN ? AND ?;\", (pos, pos+100))\n",
    "end = timeit.default_timer()\n",
    "times_select_no_index.append((end - start) / N * 1000) # in milisecond\n",
    "\n",
    "start = timeit.default_timer()\n",
    "for _ in range(N):\n",
    "    pos = random.randint(minv, maxv)\n",
    "    c.execute(\"SELECT * FROM mutations WHERE pos BETWEEN ? AND ?;\", (pos, pos+100))\n",
    "end = timeit.default_timer()\n",
    "times_select_no_index.append((end - start) / N * 1000) # in milisecond\n",
    "\n",
    "db.close()\n",
    "\n",
    "print(times_select_no_index)\n",
    "# print(\"Avg time elapsed for each SELECT: {} milliseconds\".format((end - start) / N * 1000))"
   ]
  },
  {
   "cell_type": "code",
   "execution_count": 7,
   "metadata": {},
   "outputs": [],
   "source": [
    "# Add index\n",
    "db = sqlite3.connect(DBFILE)\n",
    "c = db.cursor()\n",
    "\n",
    "c.execute(\"CREATE INDEX pos_index_1 ON mutations_1(pos)\")\n",
    "c.execute(\"CREATE INDEX pos_index_2 ON mutations_2(pos)\")\n",
    "c.execute(\"CREATE INDEX pos_index_3 ON mutations_3(pos)\")\n",
    "c.execute(\"CREATE INDEX pos_index_4 ON mutations_4(pos)\")\n",
    "c.execute(\"CREATE INDEX pos_index_5 ON mutations_5(pos)\")\n",
    "c.execute(\"CREATE INDEX pos_index_6 ON mutations_6(pos)\")\n",
    "c.execute(\"CREATE INDEX pos_index ON mutations(pos)\")\n",
    "db.close()"
   ]
  },
  {
   "cell_type": "code",
   "execution_count": 8,
   "metadata": {},
   "outputs": [
    {
     "name": "stdout",
     "output_type": "stream",
     "text": [
      "[0.05226900000025125, 0.052643999999872904, 0.07071800000062467, 0.06420999999932064, 0.06910199999992983, 0.06996299999968869, 0.07268300000077943]\n"
     ]
    }
   ],
   "source": [
    "# Measure the time performance of conditional query using SELECT statement\n",
    "# WITH index\n",
    "db = sqlite3.connect(DBFILE)\n",
    "c = db.cursor()\n",
    "\n",
    "times_select_with_index= []\n",
    "\n",
    "start = timeit.default_timer()\n",
    "for _ in range(N):\n",
    "    pos = random.randint(minv, maxv)\n",
    "    c.execute(\"SELECT * FROM mutations_1 WHERE pos BETWEEN ? AND ?;\", (pos, pos+100))\n",
    "end = timeit.default_timer()\n",
    "times_select_with_index.append((end - start) / N * 1000) # in milisecond\n",
    "\n",
    "start = timeit.default_timer()\n",
    "for _ in range(N):\n",
    "    pos = random.randint(minv, maxv)\n",
    "    c.execute(\"SELECT * FROM mutations_2 WHERE pos BETWEEN ? AND ?;\", (pos, pos+100))\n",
    "end = timeit.default_timer()\n",
    "times_select_with_index.append((end - start) / N * 1000) # in milisecond\n",
    "\n",
    "start = timeit.default_timer()\n",
    "for _ in range(N):\n",
    "    pos = random.randint(minv, maxv)\n",
    "    c.execute(\"SELECT * FROM mutations_3 WHERE pos BETWEEN ? AND ?;\", (pos, pos+100))\n",
    "end = timeit.default_timer()\n",
    "times_select_with_index.append((end - start) / N * 1000) # in milisecond\n",
    "\n",
    "start = timeit.default_timer()\n",
    "for _ in range(N):\n",
    "    pos = random.randint(minv, maxv)\n",
    "    c.execute(\"SELECT * FROM mutations_4 WHERE pos BETWEEN ? AND ?;\", (pos, pos+100))\n",
    "end = timeit.default_timer()\n",
    "times_select_with_index.append((end - start) / N * 1000) # in milisecond\n",
    "\n",
    "start = timeit.default_timer()\n",
    "for _ in range(N):\n",
    "    pos = random.randint(minv, maxv)\n",
    "    c.execute(\"SELECT * FROM mutations_5 WHERE pos BETWEEN ? AND ?;\", (pos, pos+100))\n",
    "end = timeit.default_timer()\n",
    "times_select_with_index.append((end - start) / N * 1000) # in milisecond\n",
    "\n",
    "start = timeit.default_timer()\n",
    "for _ in range(N):\n",
    "    pos = random.randint(minv, maxv)\n",
    "    c.execute(\"SELECT * FROM mutations_6 WHERE pos BETWEEN ? AND ?;\", (pos, pos+100))\n",
    "end = timeit.default_timer()\n",
    "times_select_with_index.append((end - start) / N * 1000) # in milisecond\n",
    "\n",
    "start = timeit.default_timer()\n",
    "for _ in range(N):\n",
    "    pos = random.randint(minv, maxv)\n",
    "    c.execute(\"SELECT * FROM mutations WHERE pos BETWEEN ? AND ?;\", (pos, pos+100))\n",
    "end = timeit.default_timer()\n",
    "times_select_with_index.append((end - start) / N * 1000) # in milisecond\n",
    "\n",
    "db.close()\n",
    "\n",
    "print(times_select_with_index)\n",
    "# print(\"Avg time elapsed for each SELECT: {} milliseconds\".format((end - start) / N * 1000))"
   ]
  },
  {
   "cell_type": "code",
   "execution_count": 9,
   "metadata": {},
   "outputs": [
    {
     "name": "stdout",
     "output_type": "stream",
     "text": [
      "Time to read  10000  entries:  127.2487999999612\n",
      "Time to read  100000  entries:  82.42519999998876\n",
      "Time to read  1000000  entries:  389.10390000000916\n",
      "Time to read  2000000  entries:  731.0543999999481\n",
      "Time to read  5000000  entries:  1818.4823000000279\n",
      "Time to read  10000000  entries:  4217.740599999956\n",
      "Time to read  23707851  entries:  14156.260200000019\n"
     ]
    }
   ],
   "source": [
    "# Read using Pandas Dataframe\n",
    "import pandas as pd\n",
    "\n",
    "sizes= [10 * 1000, 100 * 1000, 1000 * 1000, 2 * 1000 * 1000, 5 * 1000 * 1000, 10 * 1000 * 1000, count]\n",
    "data= []\n",
    "\n",
    "for s in sizes:\n",
    "    start = timeit.default_timer()\n",
    "    data.append(pd.read_csv(\"refsnp_chrX.csv\", skiprows=1, nrows=s))\n",
    "    end = timeit.default_timer()\n",
    "    print(\"Time to read \", s, \" entries: \", (end - start) * 1000 )"
   ]
  },
  {
   "cell_type": "code",
   "execution_count": 10,
   "metadata": {},
   "outputs": [
    {
     "name": "stdout",
     "output_type": "stream",
     "text": [
      "[5.037742000000662, 1.217585000000554, 5.512654999999995, 9.914656999999352, 23.40762199999972, 47.35680500000058, 112.09298800000056]\n"
     ]
    }
   ],
   "source": [
    "# Run search on dataframe and calculate the time elapsed\n",
    "\n",
    "times_pandas= []\n",
    "\n",
    "for df in data:\n",
    "#     print(df)\n",
    "    start = timeit.default_timer()\n",
    "    for _ in range(N):\n",
    "        pos = random.randint(minv, maxv)\n",
    "        df.loc[(df['pos'] >= pos) & (df['pos'] <= pos + 100)]\n",
    "    end = timeit.default_timer()\n",
    "    times_pandas.append((end - start) / N * 1000) # in milisecond\n",
    "print(times_pandas)\n",
    "        "
   ]
  },
  {
   "cell_type": "code",
   "execution_count": 13,
   "metadata": {},
   "outputs": [
    {
     "data": {
      "image/png": "[encoded data removed]",
      "text/plain": [
       "<Figure size 432x288 with 1 Axes>"
      ]
     },
     "metadata": {
      "needs_background": "light"
     },
     "output_type": "display_data"
    }
   ],
   "source": [
    "# Plotting graphs\n",
    "import matplotlib.pyplot as plt\n",
    "\n",
    "plt.plot(times_select_no_index, label= \"SELECT without index\")\n",
    "plt.plot(times_select_with_index, label= \"SELECT with index\")\n",
    "plt.plot(times_pandas, label= \"Pandas DataFrame search\")\n",
    "plt.ylabel('Time (ms)')\n",
    "plt.xlabel('Data size')\n",
    "plt.xticks([0, 1, 2, 3, 4, 5, 6], ['10K', '100K', '1M', '2M', '5M', '10M', '23.7M'])\n",
    "plt.legend(loc='upper left')\n",
    "plt.show()"
   ]
  },
  {
   "cell_type": "code",
   "execution_count": null,
   "metadata": {},
   "outputs": [],
   "source": []
  }
 ],
 "metadata": {
  "kernelspec": {
   "display_name": "Python 3",
   "language": "python",
   "name": "python3"
  },
  "language_info": {
   "codemirror_mode": {
    "name": "ipython",
    "version": 3
   },
   "file_extension": ".py",
   "mimetype": "text/x-python",
   "name": "python",
   "nbconvert_exporter": "python",
   "pygments_lexer": "ipython3",
   "version": "3.7.8"
  }
 },
 "nbformat": 4,
 "nbformat_minor": 4
}
