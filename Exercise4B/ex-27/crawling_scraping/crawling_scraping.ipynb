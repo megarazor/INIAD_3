{
 "cells": [
  {
   "cell_type": "markdown",
   "metadata": {},
   "source": [
    "### Sample program for crawling  "
   ]
  },
  {
   "cell_type": "markdown",
   "metadata": {},
   "source": [
    "#### Import libraries  "
   ]
  },
  {
   "cell_type": "code",
   "execution_count": 1,
   "metadata": {},
   "outputs": [],
   "source": [
    "import re\n",
    "import requests\n",
    "from bs4 import BeautifulSoup\n",
    "import pandas as pd"
   ]
  },
  {
   "cell_type": "markdown",
   "metadata": {},
   "source": [
    "#### Parameters  "
   ]
  },
  {
   "cell_type": "code",
   "execution_count": 2,
   "metadata": {},
   "outputs": [],
   "source": [
    "url = 'http://127.0.0.1:8887/sample.html'\n",
    "csv_out = 'iniad_rooms.csv'"
   ]
  },
  {
   "cell_type": "markdown",
   "metadata": {},
   "source": [
    "#### Crawling of web page  "
   ]
  },
  {
   "cell_type": "code",
   "execution_count": 3,
   "metadata": {},
   "outputs": [
    {
     "name": "stdout",
     "output_type": "stream",
     "text": [
      "200\n",
      "utf-8\n"
     ]
    }
   ],
   "source": [
    "s = requests.Session()\n",
    "r = s.get(url)\n",
    "\n",
    "print(r.status_code)\n",
    "print(r.encoding)"
   ]
  },
  {
   "cell_type": "code",
   "execution_count": 4,
   "metadata": {},
   "outputs": [
    {
     "name": "stdout",
     "output_type": "stream",
     "text": [
      "<!DOCTYPE html>\n",
      "<html lang=\"ja\">\n",
      "  <head>\n",
      "    <meta charset=\"UTF-8\">\n",
      "content-type\n",
      "    <title>Sample Page for Crawling & Scraping</title>\n",
      "    <script src=\"js/sample.js\"></script>\n",
      "  </head>\n",
      "  <body>\n",
      "    <p>Rooms for conference in <a href=\"https://www.iniad.org/\">INIAD</a></p>\n",
      "\n",
      "    <h3>Hall</h3>\n",
      "    <ul id=\"hall\">\n",
      "      <li class=\"capacity\">Capacity: 400</li>\n",
      "      <li class=\"floor\">1F</li>\n",
      "    </ul>\n",
      "\n",
      "    <h3>Lecture room</h3>\n",
      "    <ul id=\"lecture_room\">\n",
      "      <li class=\"capacity\">Capacity: 200</li>\n",
      "      <li class=\"floor\">2F</li>\n",
      "    </ul>\n",
      "\n",
      "    <h3>Large rooms</h3>\n",
      "    <ul id=\"large_rooms\">\n",
      "      <li class=\"capacity\">Capacity: 80</li>\n",
      "      <li class=\"floor\">3,4F</li>\n",
      "    </ul>\n",
      "\n",
      "    <label for=\"num\">Num:</label>\n",
      "    <input id=\"num\" type=\"text\">\n",
      "    <button onclick=\"calc()\">Select</button><br>\n",
      "    Please use <span id=\"result\">???</span>\n",
      "  </body>\n",
      "</html>\n"
     ]
    }
   ],
   "source": [
    "# response body\n",
    "print(r.text)  # str\n",
    "#print(r.content)  # binary"
   ]
  },
  {
   "cell_type": "markdown",
   "metadata": {},
   "source": [
    "#### Scraping (parse web contents)  "
   ]
  },
  {
   "cell_type": "code",
   "execution_count": 5,
   "metadata": {},
   "outputs": [],
   "source": [
    "bs = BeautifulSoup(r.text, 'html.parser')"
   ]
  },
  {
   "cell_type": "markdown",
   "metadata": {},
   "source": [
    "#### Get info of elements by tag  "
   ]
  },
  {
   "cell_type": "code",
   "execution_count": 6,
   "metadata": {},
   "outputs": [
    {
     "name": "stdout",
     "output_type": "stream",
     "text": [
      "FIND:\n",
      "Tag: p\n",
      "Whole:\n",
      "<p>Rooms for conference in <a href=\"https://www.iniad.org/\">INIAD</a></p>\n",
      "Text:\n",
      "Rooms for conference in INIAD\n",
      "Contents:\n",
      "['Rooms for conference in ', <a href=\"https://www.iniad.org/\">INIAD</a>]\n"
     ]
    }
   ],
   "source": [
    "print(\"FIND:\")\n",
    "print(\"Tag: p\")\n",
    "p_obj = bs.find('p')\n",
    "print(\"Whole:\")\n",
    "print(p_obj)\n",
    "print(\"Text:\")\n",
    "print(p_obj.text)\n",
    "print(\"Contents:\")\n",
    "print(p_obj.contents)"
   ]
  },
  {
   "cell_type": "code",
   "execution_count": 7,
   "metadata": {},
   "outputs": [
    {
     "name": "stdout",
     "output_type": "stream",
     "text": [
      "Child elements:\n",
      "Whole:\n",
      "<a href=\"https://www.iniad.org/\">INIAD</a>\n",
      "Text:\n",
      "INIAD\n",
      "Contents:\n",
      "['INIAD']\n",
      "Attrs:\n",
      "{'href': 'https://www.iniad.org/'}\n",
      "Get attrs:\n",
      "https://www.iniad.org/\n"
     ]
    }
   ],
   "source": [
    "print(\"Child elements:\")\n",
    "a_obj = p_obj.a\n",
    "print(\"Whole:\")\n",
    "print(a_obj)\n",
    "print(\"Text:\")\n",
    "print(a_obj.text)\n",
    "print(\"Contents:\")\n",
    "print(a_obj.contents)\n",
    "print(\"Attrs:\")\n",
    "print(a_obj.attrs)\n",
    "print(\"Get attrs:\")\n",
    "print(a_obj.get(\"href\"))"
   ]
  },
  {
   "cell_type": "code",
   "execution_count": 8,
   "metadata": {},
   "outputs": [
    {
     "name": "stdout",
     "output_type": "stream",
     "text": [
      "FIND_ALL:\n",
      "Whole:\n",
      "<h3>Hall</h3>\n",
      "Text:\n",
      "Hall\n",
      "Contents:\n",
      "['Hall']\n",
      "======\n",
      "Whole:\n",
      "<h3>Lecture room</h3>\n",
      "Text:\n",
      "Lecture room\n",
      "Contents:\n",
      "['Lecture room']\n",
      "======\n",
      "Whole:\n",
      "<h3>Large rooms</h3>\n",
      "Text:\n",
      "Large rooms\n",
      "Contents:\n",
      "['Large rooms']\n",
      "======\n"
     ]
    }
   ],
   "source": [
    "# all\n",
    "print(\"FIND_ALL:\")\n",
    "h3_all = bs.find_all('h3')\n",
    "for h3 in h3_all:\n",
    "    print(\"Whole:\")\n",
    "    print(h3)\n",
    "    print(\"Text:\")\n",
    "    print(h3.text)\n",
    "    print(\"Contents:\")\n",
    "    print(h3.contents)\n",
    "    print('======')"
   ]
  },
  {
   "cell_type": "markdown",
   "metadata": {},
   "source": [
    "#### Get info of elements by ID  "
   ]
  },
  {
   "cell_type": "code",
   "execution_count": 9,
   "metadata": {},
   "outputs": [
    {
     "name": "stdout",
     "output_type": "stream",
     "text": [
      "[<ul id=\"hall\">\n",
      "<li class=\"capacity\">Capacity: 400</li>\n",
      "<li class=\"floor\">1F</li>\n",
      "</ul>]\n",
      "[<li class=\"capacity\">Capacity: 400</li>, <li class=\"floor\">1F</li>]\n"
     ]
    }
   ],
   "source": [
    "id_hall = bs.select('#hall')\n",
    "print(id_hall)\n",
    "id_hall_li = id_hall[0].find_all('li')\n",
    "print(id_hall_li)"
   ]
  },
  {
   "cell_type": "markdown",
   "metadata": {},
   "source": [
    "#### Get info of elements by class    "
   ]
  },
  {
   "cell_type": "code",
   "execution_count": 10,
   "metadata": {},
   "outputs": [
    {
     "name": "stdout",
     "output_type": "stream",
     "text": [
      "[<li class=\"capacity\">Capacity: 400</li>, <li class=\"capacity\">Capacity: 200</li>, <li class=\"capacity\">Capacity: 80</li>]\n",
      "Capacity: 200\n"
     ]
    }
   ],
   "source": [
    "class_capacity = bs.select('.capacity')\n",
    "print(class_capacity)\n",
    "print(class_capacity[1].text)"
   ]
  },
  {
   "cell_type": "markdown",
   "metadata": {},
   "source": [
    "#### Output to CSV  "
   ]
  },
  {
   "cell_type": "code",
   "execution_count": 11,
   "metadata": {},
   "outputs": [
    {
     "data": {
      "text/html": [
       "<div>\n",
       "<style scoped>\n",
       "    .dataframe tbody tr th:only-of-type {\n",
       "        vertical-align: middle;\n",
       "    }\n",
       "\n",
       "    .dataframe tbody tr th {\n",
       "        vertical-align: top;\n",
       "    }\n",
       "\n",
       "    .dataframe thead th {\n",
       "        text-align: right;\n",
       "    }\n",
       "</style>\n",
       "<table border=\"1\" class=\"dataframe\">\n",
       "  <thead>\n",
       "    <tr style=\"text-align: right;\">\n",
       "      <th></th>\n",
       "      <th>Room</th>\n",
       "      <th>Capacity</th>\n",
       "      <th>Floor</th>\n",
       "    </tr>\n",
       "  </thead>\n",
       "  <tbody>\n",
       "    <tr>\n",
       "      <th>0</th>\n",
       "      <td>Hall</td>\n",
       "      <td>400</td>\n",
       "      <td>1F</td>\n",
       "    </tr>\n",
       "    <tr>\n",
       "      <th>1</th>\n",
       "      <td>Lecture room</td>\n",
       "      <td>200</td>\n",
       "      <td>2F</td>\n",
       "    </tr>\n",
       "    <tr>\n",
       "      <th>2</th>\n",
       "      <td>Large rooms</td>\n",
       "      <td>80</td>\n",
       "      <td>3,4F</td>\n",
       "    </tr>\n",
       "  </tbody>\n",
       "</table>\n",
       "</div>"
      ],
      "text/plain": [
       "           Room Capacity Floor\n",
       "0          Hall      400    1F\n",
       "1  Lecture room      200    2F\n",
       "2   Large rooms       80  3,4F"
      ]
     },
     "metadata": {},
     "output_type": "display_data"
    }
   ],
   "source": [
    "df = pd.DataFrame([], columns=['Room', 'Capacity', 'Floor'])\n",
    "class_floor = bs.select('.floor')\n",
    "\n",
    "rooms = []\n",
    "capacities = []\n",
    "floors = []\n",
    "for i in range(len(h3_all)):\n",
    "    rooms.append(h3_all[i].text)\n",
    "    capacities.append(re.sub(r'^Capacity:\\s*(\\d+)$', r'\\1', class_capacity[i].text))\n",
    "    floors.append(class_floor[i].text)\n",
    "\n",
    "df['Room'] = pd.Series(rooms)\n",
    "df['Capacity'] = pd.Series(capacities)\n",
    "df['Floor'] = pd.Series(floors)\n",
    "display(df)\n",
    "\n",
    "df.to_csv(csv_out, index=False)"
   ]
  },
  {
   "cell_type": "code",
   "execution_count": null,
   "metadata": {},
   "outputs": [],
   "source": []
  }
 ],
 "metadata": {
  "kernelspec": {
   "display_name": "Python 3",
   "language": "python",
   "name": "python3"
  },
  "language_info": {
   "codemirror_mode": {
    "name": "ipython",
    "version": 3
   },
   "file_extension": ".py",
   "mimetype": "text/x-python",
   "name": "python",
   "nbconvert_exporter": "python",
   "pygments_lexer": "ipython3",
   "version": "3.7.8"
  }
 },
 "nbformat": 4,
 "nbformat_minor": 4
}
