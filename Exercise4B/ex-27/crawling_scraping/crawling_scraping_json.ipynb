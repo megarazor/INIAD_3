{
 "cells": [
  {
   "cell_type": "markdown",
   "metadata": {},
   "source": [
    "### Sample program for crawling (JSON)  "
   ]
  },
  {
   "cell_type": "markdown",
   "metadata": {},
   "source": [
    "#### Import libraries  "
   ]
  },
  {
   "cell_type": "code",
   "execution_count": 12,
   "metadata": {},
   "outputs": [],
   "source": [
    "import requests\n",
    "from bs4 import BeautifulSoup\n",
    "import pandas as pd\n",
    "from pandas import json_normalize"
   ]
  },
  {
   "cell_type": "markdown",
   "metadata": {},
   "source": [
    "#### Parameters  "
   ]
  },
  {
   "cell_type": "code",
   "execution_count": 13,
   "metadata": {},
   "outputs": [],
   "source": [
    "# set your API key\n",
    "url = 'http://api.openweathermap.org/data/2.5/weather?lat=35.6828387&lon=139.7594549&appid=62484e4a5514ecd6b6e4226961367674'"
   ]
  },
  {
   "cell_type": "markdown",
   "metadata": {},
   "source": [
    "#### Crawling of web page  "
   ]
  },
  {
   "cell_type": "code",
   "execution_count": 14,
   "metadata": {},
   "outputs": [
    {
     "name": "stdout",
     "output_type": "stream",
     "text": [
      "{'coord': {'lon': 139.76, 'lat': 35.68}, 'weather': [{'id': 500, 'main': 'Rain', 'description': 'light rain', 'icon': '10n'}], 'base': 'stations', 'main': {'temp': 282.06, 'feels_like': 277.57, 'temp_min': 281.15, 'temp_max': 283.71, 'pressure': 1024, 'humidity': 93}, 'visibility': 10000, 'wind': {'speed': 5.7, 'deg': 10}, 'rain': {'1h': 0.32}, 'clouds': {'all': 75}, 'dt': 1606903742, 'sys': {'type': 1, 'id': 8074, 'country': 'JP', 'sunrise': 1606858398, 'sunset': 1606894069}, 'timezone': 32400, 'id': 1857654, 'name': 'Marunouchi', 'cod': 200}\n"
     ]
    }
   ],
   "source": [
    "s = requests.Session()\n",
    "r = s.get(url)\n",
    "json = r.json()\n",
    "print(json)"
   ]
  },
  {
   "cell_type": "markdown",
   "metadata": {},
   "source": [
    "#### Dic to dataframe  "
   ]
  },
  {
   "cell_type": "code",
   "execution_count": 15,
   "metadata": {},
   "outputs": [
    {
     "name": "stdout",
     "output_type": "stream",
     "text": [
      "(1, 25)\n"
     ]
    },
    {
     "data": {
      "text/html": [
       "<div>\n",
       "<style scoped>\n",
       "    .dataframe tbody tr th:only-of-type {\n",
       "        vertical-align: middle;\n",
       "    }\n",
       "\n",
       "    .dataframe tbody tr th {\n",
       "        vertical-align: top;\n",
       "    }\n",
       "\n",
       "    .dataframe thead th {\n",
       "        text-align: right;\n",
       "    }\n",
       "</style>\n",
       "<table border=\"1\" class=\"dataframe\">\n",
       "  <thead>\n",
       "    <tr style=\"text-align: right;\">\n",
       "      <th></th>\n",
       "      <th>weather</th>\n",
       "      <th>base</th>\n",
       "      <th>visibility</th>\n",
       "      <th>dt</th>\n",
       "      <th>timezone</th>\n",
       "      <th>id</th>\n",
       "      <th>name</th>\n",
       "      <th>cod</th>\n",
       "      <th>coord.lon</th>\n",
       "      <th>coord.lat</th>\n",
       "      <th>...</th>\n",
       "      <th>main.humidity</th>\n",
       "      <th>wind.speed</th>\n",
       "      <th>wind.deg</th>\n",
       "      <th>rain.1h</th>\n",
       "      <th>clouds.all</th>\n",
       "      <th>sys.type</th>\n",
       "      <th>sys.id</th>\n",
       "      <th>sys.country</th>\n",
       "      <th>sys.sunrise</th>\n",
       "      <th>sys.sunset</th>\n",
       "    </tr>\n",
       "  </thead>\n",
       "  <tbody>\n",
       "    <tr>\n",
       "      <th>0</th>\n",
       "      <td>[{'id': 500, 'main': 'Rain', 'description': 'l...</td>\n",
       "      <td>stations</td>\n",
       "      <td>10000</td>\n",
       "      <td>1606903742</td>\n",
       "      <td>32400</td>\n",
       "      <td>1857654</td>\n",
       "      <td>Marunouchi</td>\n",
       "      <td>200</td>\n",
       "      <td>139.76</td>\n",
       "      <td>35.68</td>\n",
       "      <td>...</td>\n",
       "      <td>93</td>\n",
       "      <td>5.7</td>\n",
       "      <td>10</td>\n",
       "      <td>0.32</td>\n",
       "      <td>75</td>\n",
       "      <td>1</td>\n",
       "      <td>8074</td>\n",
       "      <td>JP</td>\n",
       "      <td>1606858398</td>\n",
       "      <td>1606894069</td>\n",
       "    </tr>\n",
       "  </tbody>\n",
       "</table>\n",
       "<p>1 rows × 25 columns</p>\n",
       "</div>"
      ],
      "text/plain": [
       "                                             weather      base  visibility  \\\n",
       "0  [{'id': 500, 'main': 'Rain', 'description': 'l...  stations       10000   \n",
       "\n",
       "           dt  timezone       id        name  cod  coord.lon  coord.lat  ...  \\\n",
       "0  1606903742     32400  1857654  Marunouchi  200     139.76      35.68  ...   \n",
       "\n",
       "   main.humidity  wind.speed  wind.deg  rain.1h  clouds.all  sys.type  sys.id  \\\n",
       "0             93         5.7        10     0.32          75         1    8074   \n",
       "\n",
       "   sys.country  sys.sunrise  sys.sunset  \n",
       "0           JP   1606858398  1606894069  \n",
       "\n",
       "[1 rows x 25 columns]"
      ]
     },
     "metadata": {},
     "output_type": "display_data"
    }
   ],
   "source": [
    "df_json = json_normalize(json)\n",
    "print(df_json.shape)\n",
    "display(df_json)"
   ]
  },
  {
   "cell_type": "markdown",
   "metadata": {},
   "source": [
    "#### Get info from df  "
   ]
  },
  {
   "cell_type": "code",
   "execution_count": 16,
   "metadata": {},
   "outputs": [
    {
     "name": "stdout",
     "output_type": "stream",
     "text": [
      "Rain\n"
     ]
    }
   ],
   "source": [
    "fc = df_json.at[0, 'weather']\n",
    "for i in range(len(fc)):\n",
    "    print(fc[i]['main'])"
   ]
  },
  {
   "cell_type": "code",
   "execution_count": null,
   "metadata": {},
   "outputs": [],
   "source": []
  }
 ],
 "metadata": {
  "kernelspec": {
   "display_name": "Python 3",
   "language": "python",
   "name": "python3"
  },
  "language_info": {
   "codemirror_mode": {
    "name": "ipython",
    "version": 3
   },
   "file_extension": ".py",
   "mimetype": "text/x-python",
   "name": "python",
   "nbconvert_exporter": "python",
   "pygments_lexer": "ipython3",
   "version": "3.7.8"
  }
 },
 "nbformat": 4,
 "nbformat_minor": 4
}
