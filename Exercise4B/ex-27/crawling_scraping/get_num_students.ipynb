{
 "cells": [
  {
   "cell_type": "markdown",
   "metadata": {},
   "source": [
    "### Sample program for crawling  "
   ]
  },
  {
   "cell_type": "markdown",
   "metadata": {},
   "source": [
    "#### Import libraries  "
   ]
  },
  {
   "cell_type": "code",
   "execution_count": 39,
   "metadata": {},
   "outputs": [],
   "source": [
    "import re\n",
    "import requests\n",
    "from bs4 import BeautifulSoup\n",
    "import pandas as pd"
   ]
  },
  {
   "cell_type": "markdown",
   "metadata": {},
   "source": [
    "#### Parameters  "
   ]
  },
  {
   "cell_type": "code",
   "execution_count": 40,
   "metadata": {},
   "outputs": [],
   "source": [
    "url = 'http://127.0.0.1:8887/toyo2019_basic_data.html'\n",
    "csv_out = 'num_students_toyo.csv'"
   ]
  },
  {
   "cell_type": "markdown",
   "metadata": {},
   "source": [
    "#### Crawling of web page  "
   ]
  },
  {
   "cell_type": "code",
   "execution_count": 41,
   "metadata": {},
   "outputs": [
    {
     "name": "stdout",
     "output_type": "stream",
     "text": [
      "200\n",
      "utf-8\n"
     ]
    }
   ],
   "source": [
    "s = requests.Session()\n",
    "r = s.get(url)\n",
    "\n",
    "print(r.status_code)\n",
    "print(r.encoding)"
   ]
  },
  {
   "cell_type": "markdown",
   "metadata": {},
   "source": [
    "#### Scraping (parse web contents)  "
   ]
  },
  {
   "cell_type": "code",
   "execution_count": 42,
   "metadata": {},
   "outputs": [],
   "source": [
    "bs = BeautifulSoup(r.text, 'html.parser')"
   ]
  },
  {
   "cell_type": "markdown",
   "metadata": {},
   "source": [
    "#### Get info of elements by tag  "
   ]
  },
  {
   "cell_type": "code",
   "execution_count": 43,
   "metadata": {},
   "outputs": [
    {
     "name": "stdout",
     "output_type": "stream",
     "text": [
      "FIND_ALL:\n",
      "15\n",
      "['Letters', 'Economics', 'Business Administration', 'Law', 'Sociology', 'Regional Development Studies', 'Global and Regional Studies', 'International Tourism Management', 'INIAD', 'Human Life Design', 'Science and Engineering', 'Information Sciences and Arts', 'Life Sciences', 'Food and Nutritional Sciences', 'Total']\n",
      "45\n",
      "['1,615', '2,148', '3,763', '1,912', '815', '2,727', '1,832', '1,140', '2,972', '1,504', '746', '2,250', '1,301', '1,981', '3,282', '233', '402', '635', '430', '727', '1,157', '300', '824', '1,124', '917', '262', '1,179', '1,013', '1,358', '2,371', '2,872', '575', '3,447', '858', '296', '1,154', '608', '311', '919', '349', '546', '895', '15,744', '12,131', '27,875']\n"
     ]
    }
   ],
   "source": [
    "# all\n",
    "print(\"FIND_ALL:\")\n",
    "\n",
    "department_names= []\n",
    "student_counts= []\n",
    "\n",
    "tbody_all = bs.find_all('tbody')\n",
    "tbody= tbody_all[0]\n",
    "tr_all= tbody.find_all('tr')\n",
    "for tr in tr_all:\n",
    "    th_all= tr.find_all('th')\n",
    "    for th in th_all:\n",
    "        department_names.append(th.text)\n",
    "    td_all= tr.find_all('td')\n",
    "    for td in td_all:\n",
    "        student_counts.append(td.text) \n",
    "\n",
    "print(len(department_names))\n",
    "print(department_names)\n",
    "print(len(student_counts))\n",
    "print(student_counts)        "
   ]
  },
  {
   "cell_type": "code",
   "execution_count": 44,
   "metadata": {},
   "outputs": [
    {
     "name": "stdout",
     "output_type": "stream",
     "text": [
      "['1,615', '1,912', '1,832', '1,504', '1,301', '233', '430', '300', '917', '1,013', '2,872', '858', '608', '349', '15,744']\n",
      "['2,148', '815', '1,140', '746', '1,981', '402', '727', '824', '262', '1,358', '575', '296', '311', '546', '12,131']\n",
      "['3,763', '2,727', '2,972', '2,250', '3,282', '635', '1,157', '1,124', '1,179', '2,371', '3,447', '1,154', '919', '895', '27,875']\n"
     ]
    }
   ],
   "source": [
    "male= []\n",
    "female= []\n",
    "total= []\n",
    "i= 1\n",
    "\n",
    "for count in student_counts:\n",
    "    if (i % 3 == 1):\n",
    "        male.append(count)\n",
    "    elif (i % 3 == 2):\n",
    "        female.append(count)\n",
    "    else:\n",
    "        total.append(count)\n",
    "    i+= 1\n",
    "\n",
    "print(male)\n",
    "print(female)\n",
    "print(total)"
   ]
  },
  {
   "cell_type": "markdown",
   "metadata": {},
   "source": [
    "#### Output to CSV  "
   ]
  },
  {
   "cell_type": "code",
   "execution_count": 45,
   "metadata": {},
   "outputs": [
    {
     "data": {
      "text/html": [
       "<div>\n",
       "<style scoped>\n",
       "    .dataframe tbody tr th:only-of-type {\n",
       "        vertical-align: middle;\n",
       "    }\n",
       "\n",
       "    .dataframe tbody tr th {\n",
       "        vertical-align: top;\n",
       "    }\n",
       "\n",
       "    .dataframe thead th {\n",
       "        text-align: right;\n",
       "    }\n",
       "</style>\n",
       "<table border=\"1\" class=\"dataframe\">\n",
       "  <thead>\n",
       "    <tr style=\"text-align: right;\">\n",
       "      <th></th>\n",
       "      <th>Department</th>\n",
       "      <th>Male</th>\n",
       "      <th>Female</th>\n",
       "      <th>Total</th>\n",
       "    </tr>\n",
       "  </thead>\n",
       "  <tbody>\n",
       "    <tr>\n",
       "      <th>0</th>\n",
       "      <td>Letters</td>\n",
       "      <td>1,615</td>\n",
       "      <td>2,148</td>\n",
       "      <td>3,763</td>\n",
       "    </tr>\n",
       "    <tr>\n",
       "      <th>1</th>\n",
       "      <td>Economics</td>\n",
       "      <td>1,912</td>\n",
       "      <td>815</td>\n",
       "      <td>2,727</td>\n",
       "    </tr>\n",
       "    <tr>\n",
       "      <th>2</th>\n",
       "      <td>Business Administration</td>\n",
       "      <td>1,832</td>\n",
       "      <td>1,140</td>\n",
       "      <td>2,972</td>\n",
       "    </tr>\n",
       "    <tr>\n",
       "      <th>3</th>\n",
       "      <td>Law</td>\n",
       "      <td>1,504</td>\n",
       "      <td>746</td>\n",
       "      <td>2,250</td>\n",
       "    </tr>\n",
       "    <tr>\n",
       "      <th>4</th>\n",
       "      <td>Sociology</td>\n",
       "      <td>1,301</td>\n",
       "      <td>1,981</td>\n",
       "      <td>3,282</td>\n",
       "    </tr>\n",
       "    <tr>\n",
       "      <th>5</th>\n",
       "      <td>Regional Development Studies</td>\n",
       "      <td>233</td>\n",
       "      <td>402</td>\n",
       "      <td>635</td>\n",
       "    </tr>\n",
       "    <tr>\n",
       "      <th>6</th>\n",
       "      <td>Global and Regional Studies</td>\n",
       "      <td>430</td>\n",
       "      <td>727</td>\n",
       "      <td>1,157</td>\n",
       "    </tr>\n",
       "    <tr>\n",
       "      <th>7</th>\n",
       "      <td>International Tourism Management</td>\n",
       "      <td>300</td>\n",
       "      <td>824</td>\n",
       "      <td>1,124</td>\n",
       "    </tr>\n",
       "    <tr>\n",
       "      <th>8</th>\n",
       "      <td>INIAD</td>\n",
       "      <td>917</td>\n",
       "      <td>262</td>\n",
       "      <td>1,179</td>\n",
       "    </tr>\n",
       "    <tr>\n",
       "      <th>9</th>\n",
       "      <td>Human Life Design</td>\n",
       "      <td>1,013</td>\n",
       "      <td>1,358</td>\n",
       "      <td>2,371</td>\n",
       "    </tr>\n",
       "    <tr>\n",
       "      <th>10</th>\n",
       "      <td>Science and Engineering</td>\n",
       "      <td>2,872</td>\n",
       "      <td>575</td>\n",
       "      <td>3,447</td>\n",
       "    </tr>\n",
       "    <tr>\n",
       "      <th>11</th>\n",
       "      <td>Information Sciences and Arts</td>\n",
       "      <td>858</td>\n",
       "      <td>296</td>\n",
       "      <td>1,154</td>\n",
       "    </tr>\n",
       "    <tr>\n",
       "      <th>12</th>\n",
       "      <td>Life Sciences</td>\n",
       "      <td>608</td>\n",
       "      <td>311</td>\n",
       "      <td>919</td>\n",
       "    </tr>\n",
       "    <tr>\n",
       "      <th>13</th>\n",
       "      <td>Food and Nutritional Sciences</td>\n",
       "      <td>349</td>\n",
       "      <td>546</td>\n",
       "      <td>895</td>\n",
       "    </tr>\n",
       "    <tr>\n",
       "      <th>14</th>\n",
       "      <td>Total</td>\n",
       "      <td>15,744</td>\n",
       "      <td>12,131</td>\n",
       "      <td>27,875</td>\n",
       "    </tr>\n",
       "  </tbody>\n",
       "</table>\n",
       "</div>"
      ],
      "text/plain": [
       "                          Department    Male  Female   Total\n",
       "0                            Letters   1,615   2,148   3,763\n",
       "1                          Economics   1,912     815   2,727\n",
       "2            Business Administration   1,832   1,140   2,972\n",
       "3                                Law   1,504     746   2,250\n",
       "4                          Sociology   1,301   1,981   3,282\n",
       "5       Regional Development Studies     233     402     635\n",
       "6        Global and Regional Studies     430     727   1,157\n",
       "7   International Tourism Management     300     824   1,124\n",
       "8                              INIAD     917     262   1,179\n",
       "9                  Human Life Design   1,013   1,358   2,371\n",
       "10           Science and Engineering   2,872     575   3,447\n",
       "11     Information Sciences and Arts     858     296   1,154\n",
       "12                     Life Sciences     608     311     919\n",
       "13     Food and Nutritional Sciences     349     546     895\n",
       "14                             Total  15,744  12,131  27,875"
      ]
     },
     "metadata": {},
     "output_type": "display_data"
    }
   ],
   "source": [
    "df = pd.DataFrame([], columns=['Department', 'Male', 'Female', 'Total'])\n",
    "\n",
    "df['Department'] = pd.Series(department_names)\n",
    "df['Male'] = pd.Series(male)\n",
    "df['Female'] = pd.Series(female)\n",
    "df['Total']= pd.Series(total)\n",
    "display(df)\n",
    "\n",
    "df.to_csv(csv_out, index=False)"
   ]
  },
  {
   "cell_type": "code",
   "execution_count": null,
   "metadata": {},
   "outputs": [],
   "source": []
  }
 ],
 "metadata": {
  "kernelspec": {
   "display_name": "Python 3",
   "language": "python",
   "name": "python3"
  },
  "language_info": {
   "codemirror_mode": {
    "name": "ipython",
    "version": 3
   },
   "file_extension": ".py",
   "mimetype": "text/x-python",
   "name": "python",
   "nbconvert_exporter": "python",
   "pygments_lexer": "ipython3",
   "version": "3.7.8"
  }
 },
 "nbformat": 4,
 "nbformat_minor": 4
}
