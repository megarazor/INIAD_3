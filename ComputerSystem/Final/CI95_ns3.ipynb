{
 "cells": [
  {
   "cell_type": "code",
   "execution_count": 19,
   "metadata": {},
   "outputs": [],
   "source": [
    "from scipy.stats import t\n",
    "import numpy as np"
   ]
  },
  {
   "cell_type": "code",
   "execution_count": 20,
   "metadata": {},
   "outputs": [
    {
     "name": "stdout",
     "output_type": "stream",
     "text": [
      "(649.3512509545981, 682.3136061882592)\n"
     ]
    }
   ],
   "source": [
    "X= np.array([666.1426, 681.1522, 635.557, 655.4282, 689.601, 672.7978, 660.1482])\n",
    "alpha= 0.05\n",
    "\n",
    "n = X.size\n",
    "X_mean = X.mean()\n",
    "X_std = np.std(X, ddof=1)\n",
    "c = t.ppf(1 - alpha / 2, n - 1) * X_std / np.sqrt(n)\n",
    "CI= (X_mean - c, X_mean + c)\n",
    "\n",
    "print(CI)"
   ]
  },
  {
   "cell_type": "code",
   "execution_count": null,
   "metadata": {},
   "outputs": [],
   "source": []
  }
 ],
 "metadata": {
  "kernelspec": {
   "display_name": "Python 3",
   "language": "python",
   "name": "python3"
  },
  "language_info": {
   "codemirror_mode": {
    "name": "ipython",
    "version": 3
   },
   "file_extension": ".py",
   "mimetype": "text/x-python",
   "name": "python",
   "nbconvert_exporter": "python",
   "pygments_lexer": "ipython3",
   "version": "3.7.8"
  }
 },
 "nbformat": 4,
 "nbformat_minor": 4
}
