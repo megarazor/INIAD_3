{
 "cells": [
  {
   "cell_type": "code",
   "execution_count": 1,
   "metadata": {},
   "outputs": [
    {
     "name": "stdout",
     "output_type": "stream",
     "text": [
      "1\n",
      "12\n",
      "15\n"
     ]
    }
   ],
   "source": [
    "def get_finger_table(node, node_list, bit_size):\n",
    "    table= []\n",
    "    for i in range(bit_size):\n",
    "        x= node + (2 ** i)\n",
    "        successor= -1\n",
    "        for n in node_list:\n",
    "            successor= n\n",
    "            if successor >= x:\n",
    "                break\n",
    "        if successor < x:\n",
    "            successor= node_list[0]\n",
    "        table.append((x, successor))\n",
    "    return table\n",
    "\n",
    "def find_k(k, node_list, bit_size):\n",
    "    node= node_list[0]\n",
    "    while(True):\n",
    "        print(node)\n",
    "        i= node_list.index(node)\n",
    "        if i < k and k <= node_list[i + 1]:\n",
    "            print(node_list[i + 1])\n",
    "            return\n",
    "        else:\n",
    "            table= get_finger_table(node, node_list, bit_size)\n",
    "#             print(\"****\")\n",
    "#             print(table)\n",
    "#             print(\"****\")\n",
    "            node= -1\n",
    "            for entry in table:\n",
    "                if entry[0] < k:\n",
    "                    node= entry[1]\n",
    "                else:\n",
    "                    break     \n",
    "\n",
    "bit_size= 5\n",
    "node_list= [1, 4, 7, 12, 15, 20, 28]\n",
    "k= 13\n",
    "find_k(k, node_list, bit_size)"
   ]
  },
  {
   "cell_type": "code",
   "execution_count": null,
   "metadata": {},
   "outputs": [],
   "source": []
  }
 ],
 "metadata": {
  "kernelspec": {
   "display_name": "Python 3",
   "language": "python",
   "name": "python3"
  },
  "language_info": {
   "codemirror_mode": {
    "name": "ipython",
    "version": 3
   },
   "file_extension": ".py",
   "mimetype": "text/x-python",
   "name": "python",
   "nbconvert_exporter": "python",
   "pygments_lexer": "ipython3",
   "version": "3.7.8"
  }
 },
 "nbformat": 4,
 "nbformat_minor": 4
}
