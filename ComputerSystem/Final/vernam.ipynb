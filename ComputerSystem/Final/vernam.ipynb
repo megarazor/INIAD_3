{
 "cells": [
  {
   "cell_type": "code",
   "execution_count": 1,
   "metadata": {},
   "outputs": [],
   "source": [
    "# lowercase, a to z ~ 0 to 25\n",
    "def code_decipher(c, key):\n",
    "    return c ^ key"
   ]
  },
  {
   "cell_type": "code",
   "execution_count": 2,
   "metadata": {},
   "outputs": [
    {
     "name": "stdout",
     "output_type": "stream",
     "text": [
      "p\n",
      "e\n",
      "t\n"
     ]
    }
   ],
   "source": [
    "codes= [0b10101, 0b10101, 0b10001]\n",
    "keys= [0b11010, 0b10001, 0b00010]\n",
    "\n",
    "for i in range(len(codes)):\n",
    "    d_code= code_decipher(codes[i], keys[i])\n",
    "    print(chr(d_code + 97))"
   ]
  },
  {
   "cell_type": "code",
   "execution_count": null,
   "metadata": {},
   "outputs": [],
   "source": []
  }
 ],
 "metadata": {
  "kernelspec": {
   "display_name": "Python 3",
   "language": "python",
   "name": "python3"
  },
  "language_info": {
   "codemirror_mode": {
    "name": "ipython",
    "version": 3
   },
   "file_extension": ".py",
   "mimetype": "text/x-python",
   "name": "python",
   "nbconvert_exporter": "python",
   "pygments_lexer": "ipython3",
   "version": "3.7.8"
  }
 },
 "nbformat": 4,
 "nbformat_minor": 4
}
