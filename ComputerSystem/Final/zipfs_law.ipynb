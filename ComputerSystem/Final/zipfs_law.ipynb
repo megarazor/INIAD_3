{
 "cells": [
  {
   "cell_type": "code",
   "execution_count": 4,
   "metadata": {},
   "outputs": [
    {
     "name": "stdout",
     "output_type": "stream",
     "text": [
      "0.5982234120532474\n"
     ]
    }
   ],
   "source": [
    "def kth_most_popular_frequency(k, N, alpha):\n",
    "    de= 0\n",
    "    for n in range(1, N + 1):\n",
    "        de+= 1 / (n ** alpha)\n",
    "    return (1 / (k ** alpha)) / de\n",
    "\n",
    "def first_m_content_frequency(m, N, alpha):\n",
    "    f= 0\n",
    "    for k in range(1, m + 1):\n",
    "        f+= kth_most_popular_frequency(k, N, alpha)\n",
    "    return f\n",
    "\n",
    "N= 100\n",
    "m= 12\n",
    "alpha= 1\n",
    "\n",
    "print(first_m_content_frequency(m, N, alpha))"
   ]
  },
  {
   "cell_type": "code",
   "execution_count": null,
   "metadata": {},
   "outputs": [],
   "source": []
  }
 ],
 "metadata": {
  "kernelspec": {
   "display_name": "Python 3",
   "language": "python",
   "name": "python3"
  },
  "language_info": {
   "codemirror_mode": {
    "name": "ipython",
    "version": 3
   },
   "file_extension": ".py",
   "mimetype": "text/x-python",
   "name": "python",
   "nbconvert_exporter": "python",
   "pygments_lexer": "ipython3",
   "version": "3.7.8"
  }
 },
 "nbformat": 4,
 "nbformat_minor": 4
}
