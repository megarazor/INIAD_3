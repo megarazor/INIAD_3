{
 "cells": [
  {
   "cell_type": "code",
   "execution_count": 1,
   "metadata": {},
   "outputs": [],
   "source": [
    "import numpy as np\n",
    "from scipy.stats import norm"
   ]
  },
  {
   "cell_type": "code",
   "execution_count": 2,
   "metadata": {},
   "outputs": [
    {
     "name": "stdout",
     "output_type": "stream",
     "text": [
      "(14.005039316189428, 17.037460683810576)\n"
     ]
    }
   ],
   "source": [
    "X = np.array([14.54, 20.52, 13.08, 12.41, 17.64, 15.53, 16.04, 14.41])\n",
    "alpha = 0.10\n",
    "\n",
    "n = X.size\n",
    "X_mean = X.mean()\n",
    "X_std = np.std(X, ddof=1)\n",
    "c = norm.ppf(1 - alpha / 2) * X_std / np.sqrt(n)\n",
    "CI= (X_mean - c, X_mean + c)\n",
    "\n",
    "print(CI)"
   ]
  },
  {
   "cell_type": "code",
   "execution_count": null,
   "metadata": {},
   "outputs": [],
   "source": []
  }
 ],
 "metadata": {
  "kernelspec": {
   "display_name": "Python 3",
   "language": "python",
   "name": "python3"
  },
  "language_info": {
   "codemirror_mode": {
    "name": "ipython",
    "version": 3
   },
   "file_extension": ".py",
   "mimetype": "text/x-python",
   "name": "python",
   "nbconvert_exporter": "python",
   "pygments_lexer": "ipython3",
   "version": "3.7.8"
  }
 },
 "nbformat": 4,
 "nbformat_minor": 4
}
