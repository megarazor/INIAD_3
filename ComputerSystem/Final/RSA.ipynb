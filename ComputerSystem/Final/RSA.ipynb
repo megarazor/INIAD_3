{
 "cells": [
  {
   "cell_type": "code",
   "execution_count": 2,
   "metadata": {},
   "outputs": [],
   "source": [
    "# P: plaintext\n",
    "# C: ciphertext\n",
    "def encrypt(P, e, n):\n",
    "    return (P ** e) % n\n",
    "\n",
    "def decrypt(C, d, n):\n",
    "    return (C ** d) % n"
   ]
  },
  {
   "cell_type": "code",
   "execution_count": 3,
   "metadata": {},
   "outputs": [],
   "source": [
    "p= 3\n",
    "q= 11\n",
    "\n",
    "z= (p - 1) * (q - 1)\n",
    "n= p * q # key length\n",
    "\n",
    "# e relatively prime to z\n",
    "e= 3\n",
    "\n",
    "# e * d ≡ 1 (mod z)\n",
    "d= 7"
   ]
  },
  {
   "cell_type": "code",
   "execution_count": 4,
   "metadata": {},
   "outputs": [
    {
     "name": "stdout",
     "output_type": "stream",
     "text": [
      "17\n"
     ]
    }
   ],
   "source": [
    "P= 8\n",
    "C= encrypt(P, e, n)\n",
    "print(C)"
   ]
  },
  {
   "cell_type": "code",
   "execution_count": 6,
   "metadata": {},
   "outputs": [
    {
     "name": "stdout",
     "output_type": "stream",
     "text": [
      "16\n"
     ]
    }
   ],
   "source": [
    "C= 4\n",
    "P= decrypt(C, d, n)\n",
    "print(P)"
   ]
  },
  {
   "cell_type": "code",
   "execution_count": null,
   "metadata": {},
   "outputs": [],
   "source": []
  }
 ],
 "metadata": {
  "kernelspec": {
   "display_name": "Python 3",
   "language": "python",
   "name": "python3"
  },
  "language_info": {
   "codemirror_mode": {
    "name": "ipython",
    "version": 3
   },
   "file_extension": ".py",
   "mimetype": "text/x-python",
   "name": "python",
   "nbconvert_exporter": "python",
   "pygments_lexer": "ipython3",
   "version": "3.7.8"
  }
 },
 "nbformat": 4,
 "nbformat_minor": 4
}
