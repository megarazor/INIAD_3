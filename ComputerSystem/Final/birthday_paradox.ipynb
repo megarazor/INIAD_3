{
 "cells": [
  {
   "cell_type": "code",
   "execution_count": 2,
   "metadata": {},
   "outputs": [],
   "source": [
    "def all_different_possibility(num, case_num):\n",
    "    p= 1\n",
    "    for i in range(num):\n",
    "        p*= 1 - i / case_num\n",
    "    return p"
   ]
  },
  {
   "cell_type": "code",
   "execution_count": 3,
   "metadata": {},
   "outputs": [
    {
     "name": "stdout",
     "output_type": "stream",
     "text": [
      "0.980601892224513\n",
      "98.0601892224513 % that the all the hash values are different\n"
     ]
    }
   ],
   "source": [
    "num= 5\n",
    "bit_num= 9\n",
    "\n",
    "case_num= 2 ** bit_num\n",
    "p= all_different_possibility(num, case_num)\n",
    "print(p)\n",
    "print(p * 100, \"% that the all the hash values are different\")"
   ]
  },
  {
   "cell_type": "code",
   "execution_count": null,
   "metadata": {},
   "outputs": [],
   "source": []
  }
 ],
 "metadata": {
  "kernelspec": {
   "display_name": "Python 3",
   "language": "python",
   "name": "python3"
  },
  "language_info": {
   "codemirror_mode": {
    "name": "ipython",
    "version": 3
   },
   "file_extension": ".py",
   "mimetype": "text/x-python",
   "name": "python",
   "nbconvert_exporter": "python",
   "pygments_lexer": "ipython3",
   "version": "3.7.8"
  }
 },
 "nbformat": 4,
 "nbformat_minor": 4
}
