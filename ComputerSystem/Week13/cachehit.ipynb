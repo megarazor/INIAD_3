{
 "cells": [
  {
   "cell_type": "code",
   "execution_count": 56,
   "metadata": {},
   "outputs": [],
   "source": [
    "import random"
   ]
  },
  {
   "cell_type": "code",
   "execution_count": 57,
   "metadata": {},
   "outputs": [
    {
     "name": "stdout",
     "output_type": "stream",
     "text": [
      "Cache hit rate when popularty of all contents is the same:  10.004399999999999 %\n"
     ]
    }
   ],
   "source": [
    "# Same popularity case\n",
    "contents= []\n",
    "for i in range(1, 101): # Contents are numbers from 1 to 100\n",
    "    contents.append(i)\n",
    "\n",
    "cache= [-1] * 10 # Initial cache stores nothing\n",
    "LRU= [0, 1, 2, 3, 4, 5, 6, 7, 8, 9] # Last used information of values in cache. 0 is most recent, 9 is last recent\n",
    "\n",
    "trial_count= 1000000\n",
    "hit_count= 0\n",
    "\n",
    "for _ in range(trial_count):\n",
    "    n= random.randint(1, 100)\n",
    "    if n in cache:\n",
    "        hit_count+= 1\n",
    "    else:\n",
    "        LRU_i= LRU.index(9)\n",
    "        cache[LRU_i]= n\n",
    "        for i in range(10):\n",
    "            LRU[i]+= 1\n",
    "        LRU[LRU_i]= 0\n",
    "\n",
    "print(\"Cache hit rate when popularty of all contents is the same: \", hit_count / trial_count * 100, \"%\")"
   ]
  },
  {
   "cell_type": "code",
   "execution_count": 58,
   "metadata": {},
   "outputs": [
    {
     "name": "stdout",
     "output_type": "stream",
     "text": [
      "Cache hit rate, Zipf's law with alpha=1:  34.9782 %\n"
     ]
    }
   ],
   "source": [
    "# Zipf's law case\n",
    "trial_count= 1000000\n",
    "hit_count= 0\n",
    "alpha= 1\n",
    "frequencies= []\n",
    "contents= []\n",
    "\n",
    "# Get frequencies\n",
    "for k in range(1, 101):\n",
    "    E= 0\n",
    "    for n in range(1, 101):\n",
    "        E+= 1 / (n ** alpha)\n",
    "    frequencies.append( int((1 / k * alpha) / E  * trial_count))\n",
    "\n",
    "for i in range(100):\n",
    "    for _ in range(frequencies[i]):\n",
    "        contents.append(i + 1)\n",
    "    \n",
    "cache= [-1] * 10 # Initial cache stores nothing\n",
    "LRU= [0, 1, 2, 3, 4, 5, 6, 7, 8, 9] # Last used information of values in cache. 0 is most recent, 9 is last recent\n",
    "\n",
    "for _ in range(trial_count):\n",
    "    if contents != set():\n",
    "        n= random.sample(contents, 1)[0]\n",
    "    else:\n",
    "        break\n",
    "    \n",
    "    if n in cache:\n",
    "        hit_count+= 1\n",
    "    else:\n",
    "        LRU_i= LRU.index(9)\n",
    "        cache[LRU_i]= n\n",
    "        for i in range(10):\n",
    "            LRU[i]+= 1\n",
    "        LRU[LRU_i]= 0\n",
    "\n",
    "print(\"Cache hit rate, Zipf's law with alpha=1: \", hit_count / trial_count * 100, \"%\")"
   ]
  },
  {
   "cell_type": "code",
   "execution_count": null,
   "metadata": {},
   "outputs": [],
   "source": []
  }
 ],
 "metadata": {
  "kernelspec": {
   "display_name": "Python 3",
   "language": "python",
   "name": "python3"
  },
  "language_info": {
   "codemirror_mode": {
    "name": "ipython",
    "version": 3
   },
   "file_extension": ".py",
   "mimetype": "text/x-python",
   "name": "python",
   "nbconvert_exporter": "python",
   "pygments_lexer": "ipython3",
   "version": "3.7.8"
  }
 },
 "nbformat": 4,
 "nbformat_minor": 4
}
